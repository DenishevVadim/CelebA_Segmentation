{
 "cells": [
  {
   "cell_type": "code",
   "execution_count": 1,
   "id": "sound-frontier",
   "metadata": {
    "execution": {
     "iopub.execute_input": "2021-07-18T12:19:22.927105Z",
     "iopub.status.busy": "2021-07-18T12:19:22.925328Z",
     "iopub.status.idle": "2021-07-18T13:39:12.571055Z",
     "shell.execute_reply": "2021-07-18T13:39:12.569126Z"
    },
    "papermill": {
     "duration": 4789.654723,
     "end_time": "2021-07-18T13:39:12.571653",
     "exception": false,
     "start_time": "2021-07-18T12:19:22.916930",
     "status": "completed"
    },
    "tags": []
   },
   "outputs": [],
   "source": [
    "\n",
    "import os\n",
    "import cv2\n",
    "import glob\n",
    "import numpy as np\n",
    "import os\n",
    "\n",
    "def make_folder(path):\n",
    "    if not os.path.exists(os.path.join(path)):\n",
    "        os.makedirs(os.path.join(path))\n",
    "\n",
    "#list1\n",
    "#label_list = ['skin', 'neck', 'hat', 'eye_g', 'hair', 'ear_r', 'neck_l', 'cloth', 'l_eye', 'r_eye', 'l_brow', 'r_brow', 'nose', 'l_ear', 'r_ear', 'mouth', 'u_lip', 'l_lip']\n",
    "#list2 \n",
    "label_list = ['skin', 'nose', 'eye_g',  'mouth', 'u_lip', 'l_lip', 'hair', 'hat', 'ear_r', 'neck_l', 'neck', 'cloth'] #12\n",
    "label_left_right = ['eye', 'brow', 'ear']\n",
    "\n",
    "folder_base = '../input/celebamaskhq/CelebAMask-HQ/CelebAMask-HQ-mask-anno'\n",
    "folder_save = 'CelebAMaskHQ-mask'\n",
    "img_num = 30000\n",
    "\n",
    "make_folder(folder_save)\n",
    "\n",
    "for k in range(img_num):\n",
    "    folder_num = k // 2000\n",
    "    im_base = np.zeros((512, 512))\n",
    "    for idx, label in enumerate(label_list):\n",
    "        filename = os.path.join(folder_base, str(folder_num), str(k).rjust(5, '0') + '_' + label + '.png')\n",
    "        if (os.path.exists(filename)):\n",
    "            #print (label, idx+1)\n",
    "            im = cv2.imread(filename)\n",
    "            im = im[:, :, 0]\n",
    "            im_base[im != 0] = (idx + 1)\n",
    "            #print(im_base.max())\n",
    "    for idx, label in enumerate(label_left_right):\n",
    "        filename_l = os.path.join(folder_base, str(folder_num), str(k).rjust(5, '0') + '_l_' + label + '.png')\n",
    "        filename_r = os.path.join(folder_base, str(folder_num), str(k).rjust(5, '0') + '_r_' + label + '.png')\n",
    "        \n",
    "        if (os.path.exists(filename_l)):\n",
    "            \n",
    "            im_l = cv2.imread(filename_l)\n",
    "            im_l = im_l[:, :, 0]\n",
    "            im_base[im_l != 0] = (idx + 13)\n",
    "            \n",
    "        if (os.path.exists(filename_r)):\n",
    "            \n",
    "            im_r = cv2.imread(filename_r)\n",
    "            im_r = im_r[:, :, 0]\n",
    "            im_base[im_r != 0] = (idx + 13)\n",
    "\n",
    "    filename_save = os.path.join(str(k) + '.png')\n",
    "    #print (filename_save)\n",
    "    \n",
    "    cv2.imwrite(filename_save, im_base)"
   ]
  }
 ],
 "metadata": {
  "kernelspec": {
   "display_name": "Python 3",
   "language": "python",
   "name": "python3"
  },
  "language_info": {
   "codemirror_mode": {
    "name": "ipython",
    "version": 3
   },
   "file_extension": ".py",
   "mimetype": "text/x-python",
   "name": "python",
   "nbconvert_exporter": "python",
   "pygments_lexer": "ipython3",
   "version": "3.7.10"
  },
  "papermill": {
   "default_parameters": {},
   "duration": 4798.995066,
   "end_time": "2021-07-18T13:39:13.598439",
   "environment_variables": {},
   "exception": null,
   "input_path": "__notebook__.ipynb",
   "output_path": "__notebook__.ipynb",
   "parameters": {},
   "start_time": "2021-07-18T12:19:14.603373",
   "version": "2.3.3"
  }
 },
 "nbformat": 4,
 "nbformat_minor": 5
}
